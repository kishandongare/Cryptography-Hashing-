{
 "cells": [
  {
   "cell_type": "code",
   "execution_count": 1,
   "metadata": {},
   "outputs": [],
   "source": [
    "import hashlib"
   ]
  },
  {
   "cell_type": "code",
   "execution_count": 2,
   "metadata": {},
   "outputs": [
    {
     "name": "stdout",
     "output_type": "stream",
     "text": [
      "{'blake2s', 'blake2b512', 'BLAKE2s256', 'MDC2', 'whirlpool', 'md4', 'MD5', 'MD5-SHA1', 'sha3_256', 'SHA384', 'sha256', 'md5-sha1', 'sha384', 'shake_128', 'RIPEMD160', 'sha3_384', 'SHA256', 'SHA1', 'ripemd160', 'sha512', 'sha1', 'sha224', 'SHA512', 'BLAKE2b512', 'mdc2', 'sha3_512', 'SHA224', 'MD4', 'md5', 'shake_256', 'sha3_224', 'blake2s256', 'blake2b'}\n"
     ]
    }
   ],
   "source": [
    "print(hashlib.algorithms_available)"
   ]
  },
  {
   "cell_type": "code",
   "execution_count": 4,
   "metadata": {},
   "outputs": [
    {
     "name": "stdout",
     "output_type": "stream",
     "text": [
      "2cf24dba5fb0a30e26e83b2ac5b9e29e1b161e5c1fa7425e73043362938b9824\n",
      "32\n"
     ]
    }
   ],
   "source": [
    "crypt = hashlib.sha256()\n",
    "crypt.update(b\"hello\")\n",
    "print(crypt.hexdigest())#hexdigest () Like digest() except the digest is returned as a string object of double length, containing only hexadecimal digits.\n",
    "print(crypt.digest_size)"
   ]
  },
  {
   "cell_type": "code",
   "execution_count": null,
   "metadata": {},
   "outputs": [],
   "source": [
    "#if value is found in dictionary then it is possible to hash decrypt"
   ]
  },
  {
   "cell_type": "code",
   "execution_count": 10,
   "metadata": {},
   "outputs": [],
   "source": [
    "#using salt in hash"
   ]
  },
  {
   "cell_type": "code",
   "execution_count": null,
   "metadata": {},
   "outputs": [],
   "source": [
    "https://docs.python.org/3/library/hashlib.html"
   ]
  },
  {
   "cell_type": "code",
   "execution_count": 11,
   "metadata": {},
   "outputs": [],
   "source": [
    "import hashlib,binascii # Convert between binary and ASCII"
   ]
  },
  {
   "cell_type": "code",
   "execution_count": null,
   "metadata": {},
   "outputs": [],
   "source": [
    "# hashlib.pbkdf2_hmac(hash_name, password, salt, iterations, dklen=None)"
   ]
  },
  {
   "cell_type": "code",
   "execution_count": 18,
   "metadata": {},
   "outputs": [
    {
     "name": "stdout",
     "output_type": "stream",
     "text": [
      "b'1918e8070a28caef3ea9f515484c186e43f80aec27cff01a4eb66f8cc83695b4674c845bbc427c0ac39ed615bf1c091659b47212391072a5fb7dcdcc31e36617'\n"
     ]
    }
   ],
   "source": [
    "dk = hashlib.pbkdf2_hmac('sha256',b'hello',b'kishan',100000,dklen = 64)\n",
    "print(binascii.hexlify(dk))"
   ]
  },
  {
   "cell_type": "code",
   "execution_count": null,
   "metadata": {},
   "outputs": [],
   "source": []
  }
 ],
 "metadata": {
  "kernelspec": {
   "display_name": "Python 3",
   "language": "python",
   "name": "python3"
  },
  "language_info": {
   "codemirror_mode": {
    "name": "ipython",
    "version": 3
   },
   "file_extension": ".py",
   "mimetype": "text/x-python",
   "name": "python",
   "nbconvert_exporter": "python",
   "pygments_lexer": "ipython3",
   "version": "3.7.0"
  }
 },
 "nbformat": 4,
 "nbformat_minor": 4
}
